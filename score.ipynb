{
 "cells": [
  {
   "cell_type": "code",
   "execution_count": 1,
   "metadata": {},
   "outputs": [
    {
     "name": "stderr",
     "output_type": "stream",
     "text": [
      "C:\\Users\\Xiaoyong\\AppData\\Local\\Packages\\PythonSoftwareFoundation.Python.3.10_qbz5n2kfra8p0\\LocalCache\\local-packages\\Python310\\site-packages\\ckiptagger\\model_ws.py:106: UserWarning: `tf.nn.rnn_cell.LSTMCell` is deprecated and will be removed in a future version. This class is equivalent as `tf.keras.layers.LSTMCell`, and will be replaced by that in Tensorflow 2.0.\n",
      "  cell = tf.compat.v1.nn.rnn_cell.LSTMCell(hidden_d, name=name)\n",
      "C:\\Users\\Xiaoyong\\AppData\\Local\\Packages\\PythonSoftwareFoundation.Python.3.10_qbz5n2kfra8p0\\LocalCache\\local-packages\\Python310\\site-packages\\ckiptagger\\model_pos.py:56: UserWarning: `tf.nn.rnn_cell.LSTMCell` is deprecated and will be removed in a future version. This class is equivalent as `tf.keras.layers.LSTMCell`, and will be replaced by that in Tensorflow 2.0.\n",
      "  cell = tf.compat.v1.nn.rnn_cell.LSTMCell(hidden_d, name=name)\n"
     ]
    }
   ],
   "source": [
    "from ckiptagger import WS, POS\n",
    "import numpy as np\n",
    "import pandas as pd\n",
    "ws = WS(\"./data\")\n",
    "pos = POS(\"./data\")"
   ]
  },
  {
   "cell_type": "code",
   "execution_count": 2,
   "metadata": {},
   "outputs": [],
   "source": [
    "#讀取文件\n",
    "def read_file(filename):\n",
    "    with  open(filename, 'r',encoding='utf-8')as f:\n",
    "        text = f.read()\n",
    "        #回傳list\n",
    "        text = text.split('\\n')\n",
    "    return text"
   ]
  },
  {
   "cell_type": "code",
   "execution_count": 3,
   "metadata": {},
   "outputs": [],
   "source": [
    "#寫入文件\n",
    "def write_data(filename,data):\n",
    "    with open(filename,'a',encoding='utf-8')as f:\n",
    "        f.write(str(data))\n"
   ]
  },
  {
   "cell_type": "code",
   "execution_count": 5,
   "metadata": {},
   "outputs": [],
   "source": [
    "#句子斷詞\n",
    "def tokenize(sentence):\n",
    "    words = ws([sentence])\n",
    "    print(words)\n",
    "    return words\n"
   ]
  },
  {
   "cell_type": "code",
   "execution_count": 6,
   "metadata": {},
   "outputs": [],
   "source": [
    "#詞性標注\n",
    "def postagger(words):\n",
    "    postags = pos(words)\n",
    "    return postags\n"
   ]
  },
  {
   "cell_type": "code",
   "execution_count": 7,
   "metadata": {},
   "outputs": [],
   "source": [
    "#斷詞和標注回傳成(TUPLE)\n",
    "def intergrad_word(words,postags):\n",
    "    #拉链算法，两两匹配\n",
    "    pos_list = zip(words,postags)\n",
    "    pos_list = [ w for w in pos_list]\n",
    "    return pos_list"
   ]
  },
  {
   "cell_type": "code",
   "execution_count": 8,
   "metadata": {},
   "outputs": [],
   "source": [
    "#去除停用詞\n",
    "def del_stopwords(words):\n",
    "    stopwords = read_file(r\"C:\\Users\\Xiaoyong\\Desktop\\學期資料\\111-2_course\\NLP\\final\\停用詞表\\cn_stopwords_tw.txt\")\n",
    "    new_words = []\n",
    "    for word in words[0]:\n",
    "        if word not in stopwords:\n",
    "            new_words.append(word)\n",
    "    return new_words"
   ]
  },
  {
   "cell_type": "code",
   "execution_count": 9,
   "metadata": {},
   "outputs": [],
   "source": [
    "# 讀取程度副詞\n",
    "def weighted_value(request):\n",
    "    result_dict = []\n",
    "    if request == \"one\":\n",
    "        result_dict = read_file(r\"C:\\Users\\Xiaoyong\\Desktop\\學期資料\\111-2_course\\NLP\\final\\情感辭典\\chinese_sentiment_dictionary-master\\file\\情感词典\\知网\\繁體\\程度級別\\most.txt\")\n",
    "    elif request == \"two\":\n",
    "        result_dict = read_file(r\"C:\\Users\\Xiaoyong\\Desktop\\學期資料\\111-2_course\\NLP\\final\\情感辭典\\chinese_sentiment_dictionary-master\\file\\情感词典\\知网\\繁體\\程度級別\\very.txt\")\n",
    "    elif request == \"three\":\n",
    "        result_dict = read_file(r\"C:\\Users\\Xiaoyong\\Desktop\\學期資料\\111-2_course\\NLP\\final\\情感辭典\\chinese_sentiment_dictionary-master\\file\\情感词典\\知网\\繁體\\程度級別\\more.txt\")\n",
    "    elif request == \"four\":\n",
    "        result_dict = read_file(r\"C:\\Users\\Xiaoyong\\Desktop\\學期資料\\111-2_course\\NLP\\final\\情感辭典\\chinese_sentiment_dictionary-master\\file\\情感词典\\知网\\繁體\\程度級別\\ish.txt\")\n",
    "    elif request == \"five\":\n",
    "        result_dict = read_file(r\"C:\\Users\\Xiaoyong\\Desktop\\學期資料\\111-2_course\\NLP\\final\\情感辭典\\chinese_sentiment_dictionary-master\\file\\情感词典\\知网\\繁體\\程度級別\\insufficiently.txt\")\n",
    "    elif request == \"six\":\n",
    "        result_dict = read_file(r\"C:\\Users\\Xiaoyong\\Desktop\\學期資料\\111-2_course\\NLP\\final\\情感辭典\\chinese_sentiment_dictionary-master\\file\\情感词典\\知网\\繁體\\程度級別\\inverse.txt\")\n",
    "    elif request == 'posdict':\n",
    "        result_dict = read_file(r\"C:\\Users\\Xiaoyong\\Desktop\\學期資料\\111-2_course\\NLP\\final\\情感辭典\\chinese_sentiment_dictionary-master\\file\\情感词典\\final_positive.txt\")\n",
    "    elif request == 'negdict':\n",
    "        result_dict = read_file(r\"C:\\Users\\Xiaoyong\\Desktop\\學期資料\\111-2_course\\NLP\\final\\情感辭典\\chinese_sentiment_dictionary-master\\file\\情感词典\\final_negative.txt\")\n",
    "    else:\n",
    "        pass\n",
    "    return result_dict"
   ]
  },
  {
   "cell_type": "code",
   "execution_count": 10,
   "metadata": {},
   "outputs": [
    {
     "name": "stdout",
     "output_type": "stream",
     "text": [
      "reading sentiment dict .......\n"
     ]
    }
   ],
   "source": [
    "print(\"reading sentiment dict .......\")\n",
    "posdict = weighted_value('posdict')\n",
    "\n",
    "negdict = weighted_value('negdict')\n",
    "mostdict = weighted_value('one')\n",
    "verydict = weighted_value('two')\n",
    "moredict = weighted_value('three')\n",
    "ishdict = weighted_value('four')\n",
    "insufficientdict = weighted_value('five')\n",
    "inversedict = weighted_value('six')"
   ]
  },
  {
   "cell_type": "code",
   "execution_count": 11,
   "metadata": {},
   "outputs": [],
   "source": [
    "#程度副詞權重\n",
    "def match_adverb(word,sentiment_value):\n",
    "    #最高級權重\n",
    "    if word in mostdict:\n",
    "        print('A')\n",
    "        sentiment_value *= 8\n",
    "    #比較級權重\n",
    "    elif word in verydict:\n",
    "        print('B')\n",
    "        sentiment_value *= 6\n",
    "    #比較級權重\n",
    "    elif word in moredict:\n",
    "        print('C')\n",
    "        sentiment_value *= 4\n",
    "    #輕微級權重\n",
    "    elif word in ishdict:\n",
    "        print('D')\n",
    "        sentiment_value *= 2\n",
    "    #相對程度\n",
    "    elif word in insufficientdict:\n",
    "        print('E')\n",
    "        sentiment_value *= 0.5\n",
    "    #否定詞權重\n",
    "    elif word in inversedict:\n",
    "        print('F')\n",
    "        sentiment_value *= -1\n",
    "    else:\n",
    "        sentiment_value *= 1\n",
    "    return sentiment_value"
   ]
  },
  {
   "cell_type": "code",
   "execution_count": 17,
   "metadata": {},
   "outputs": [],
   "source": [
    "\n",
    "#对每一条微博打分\n",
    "def single_sentiment_score(words,seg_words):\n",
    "    \n",
    "    #i，s 记录情感词和程度词出现的位置\n",
    "    i = 0   #记录扫描到的词位子\n",
    "    s = 0   #记录情感词的位置\n",
    "    poscount = 0 #记录积极情感词数目\n",
    "    negcount = 0 #记录消极情感词数目\n",
    "    \n",
    "    #逐个查找情感词\n",
    "    for word in seg_words:\n",
    "        #如果为积极词\n",
    "        # print('我是:'+word)\n",
    "\n",
    "        if word in posdict:\n",
    "            # print('積極:'+word)\n",
    "            \n",
    "            poscount += 1  #情感词数目加1\n",
    "        #在情感词前面寻找程度副词\n",
    "            for w in seg_words[s:i]:\n",
    "                poscount = match_adverb(w,poscount)\n",
    "            s = i+1 #记录情感词位置\n",
    "        # 如果是消极情感词\n",
    "        elif word in negdict:\n",
    "            # print('消極:'+word)\n",
    "            # print(word)\n",
    "            negcount +=1\n",
    "            for w in seg_words[s:i]:\n",
    "                negcount = match_adverb(w,negcount)\n",
    "            s = i+1\n",
    "        elif word =='!' or  word =='！' or word =='?' or word == '？':\n",
    "            for w2 in seg_words[i::-1]:\n",
    "                #如果为积极词，poscount+2\n",
    "                if w2 in posdict:\n",
    "                    poscount += 4\n",
    "                    break\n",
    "                #如果是消极词，negcount+2\n",
    "                elif w2 in negdict:\n",
    "                    negcount += 4\n",
    "                    break\n",
    "        i += 1 #定位情感词的位置\n",
    "    #计算情感值\n",
    "    print('最終分數')\n",
    "    print(poscount,negcount)\n",
    "    sentiment_score = poscount - negcount\n",
    "    print('總分:'+str(sentiment_score))\n",
    "    if sentiment_score >= 7:\n",
    "        sentiment_score = 2\n",
    "    elif sentiment_score > 0:\n",
    "        sentiment_score = 1\n",
    "    elif sentiment_score == 0:\n",
    "        sentiment_score = 0\n",
    "    elif sentiment_score < 7:\n",
    "        sentiment_score = -1\n",
    "    else:\n",
    "        sentiment_score = -2\n",
    "        \n",
    "    return sentiment_score"
   ]
  },
  {
   "cell_type": "code",
   "execution_count": 12,
   "metadata": {},
   "outputs": [],
   "source": [
    "def run_score(contents):\n",
    "    scores_list = []\n",
    "    for content in contents:\n",
    "        content = content.strip()\n",
    "        if content !='':\n",
    "            words = tokenize(content)\n",
    "            seg_words = del_stopwords(words)\n",
    "            score = single_sentiment_score(words,seg_words) \n",
    "            content = '|'.join(seg_words)\n",
    "            scores_list.append((content, score)) \n",
    "    return scores_list"
   ]
  },
  {
   "cell_type": "code",
   "execution_count": 18,
   "metadata": {},
   "outputs": [
    {
     "ename": "KeyError",
     "evalue": "'Reviews'",
     "output_type": "error",
     "traceback": [
      "\u001b[1;31m---------------------------------------------------------------------------\u001b[0m",
      "\u001b[1;31mKeyError\u001b[0m                                  Traceback (most recent call last)",
      "File \u001b[1;32m~\\AppData\\Local\\Packages\\PythonSoftwareFoundation.Python.3.10_qbz5n2kfra8p0\\LocalCache\\local-packages\\Python310\\site-packages\\pandas\\core\\indexes\\base.py:3621\u001b[0m, in \u001b[0;36mIndex.get_loc\u001b[1;34m(self, key, method, tolerance)\u001b[0m\n\u001b[0;32m   3620\u001b[0m \u001b[39mtry\u001b[39;00m:\n\u001b[1;32m-> 3621\u001b[0m     \u001b[39mreturn\u001b[39;00m \u001b[39mself\u001b[39;49m\u001b[39m.\u001b[39;49m_engine\u001b[39m.\u001b[39;49mget_loc(casted_key)\n\u001b[0;32m   3622\u001b[0m \u001b[39mexcept\u001b[39;00m \u001b[39mKeyError\u001b[39;00m \u001b[39mas\u001b[39;00m err:\n",
      "File \u001b[1;32m~\\AppData\\Local\\Packages\\PythonSoftwareFoundation.Python.3.10_qbz5n2kfra8p0\\LocalCache\\local-packages\\Python310\\site-packages\\pandas\\_libs\\index.pyx:136\u001b[0m, in \u001b[0;36mpandas._libs.index.IndexEngine.get_loc\u001b[1;34m()\u001b[0m\n",
      "File \u001b[1;32m~\\AppData\\Local\\Packages\\PythonSoftwareFoundation.Python.3.10_qbz5n2kfra8p0\\LocalCache\\local-packages\\Python310\\site-packages\\pandas\\_libs\\index.pyx:163\u001b[0m, in \u001b[0;36mpandas._libs.index.IndexEngine.get_loc\u001b[1;34m()\u001b[0m\n",
      "File \u001b[1;32mpandas\\_libs\\hashtable_class_helper.pxi:5198\u001b[0m, in \u001b[0;36mpandas._libs.hashtable.PyObjectHashTable.get_item\u001b[1;34m()\u001b[0m\n",
      "File \u001b[1;32mpandas\\_libs\\hashtable_class_helper.pxi:5206\u001b[0m, in \u001b[0;36mpandas._libs.hashtable.PyObjectHashTable.get_item\u001b[1;34m()\u001b[0m\n",
      "\u001b[1;31mKeyError\u001b[0m: 'Reviews'",
      "\nThe above exception was the direct cause of the following exception:\n",
      "\u001b[1;31mKeyError\u001b[0m                                  Traceback (most recent call last)",
      "\u001b[1;32mc:\\Users\\Xiaoyong\\Desktop\\學期資料\\111-2_course\\NLP\\final\\final.ipynb Cell 14\u001b[0m in \u001b[0;36m<cell line: 2>\u001b[1;34m()\u001b[0m\n\u001b[0;32m      <a href='vscode-notebook-cell:/c%3A/Users/Xiaoyong/Desktop/%E5%AD%B8%E6%9C%9F%E8%B3%87%E6%96%99/111-2_course/NLP/final/final.ipynb#X16sZmlsZQ%3D%3D?line=0'>1</a>\u001b[0m df \u001b[39m=\u001b[39m pd\u001b[39m.\u001b[39mread_csv(\u001b[39mr\u001b[39m\u001b[39m'\u001b[39m\u001b[39mC:\u001b[39m\u001b[39m\\\u001b[39m\u001b[39mUsers\u001b[39m\u001b[39m\\\u001b[39m\u001b[39mXiaoyong\u001b[39m\u001b[39m\\\u001b[39m\u001b[39mDesktop\u001b[39m\u001b[39m\\\u001b[39m\u001b[39m學期資料\u001b[39m\u001b[39m\\\u001b[39m\u001b[39m111-2_course\u001b[39m\u001b[39m\\\u001b[39m\u001b[39mNLP\u001b[39m\u001b[39m\\\u001b[39m\u001b[39mfinal\u001b[39m\u001b[39m\\\u001b[39m\u001b[39msimplifyweibo_4_moods\u001b[39m\u001b[39m\\\u001b[39m\u001b[39mtraditional_weibo.csv\u001b[39m\u001b[39m'\u001b[39m)\n\u001b[1;32m----> <a href='vscode-notebook-cell:/c%3A/Users/Xiaoyong/Desktop/%E5%AD%B8%E6%9C%9F%E8%B3%87%E6%96%99/111-2_course/NLP/final/final.ipynb#X16sZmlsZQ%3D%3D?line=1'>2</a>\u001b[0m sentences \u001b[39m=\u001b[39m df[\u001b[39m'\u001b[39;49m\u001b[39mReviews\u001b[39;49m\u001b[39m'\u001b[39;49m]\u001b[39m.\u001b[39mtolist()\n\u001b[0;32m      <a href='vscode-notebook-cell:/c%3A/Users/Xiaoyong/Desktop/%E5%AD%B8%E6%9C%9F%E8%B3%87%E6%96%99/111-2_course/NLP/final/final.ipynb#X16sZmlsZQ%3D%3D?line=2'>3</a>\u001b[0m \u001b[39mprint\u001b[39m(\u001b[39mlen\u001b[39m(sentences))\n",
      "File \u001b[1;32m~\\AppData\\Local\\Packages\\PythonSoftwareFoundation.Python.3.10_qbz5n2kfra8p0\\LocalCache\\local-packages\\Python310\\site-packages\\pandas\\core\\frame.py:3505\u001b[0m, in \u001b[0;36mDataFrame.__getitem__\u001b[1;34m(self, key)\u001b[0m\n\u001b[0;32m   3503\u001b[0m \u001b[39mif\u001b[39;00m \u001b[39mself\u001b[39m\u001b[39m.\u001b[39mcolumns\u001b[39m.\u001b[39mnlevels \u001b[39m>\u001b[39m \u001b[39m1\u001b[39m:\n\u001b[0;32m   3504\u001b[0m     \u001b[39mreturn\u001b[39;00m \u001b[39mself\u001b[39m\u001b[39m.\u001b[39m_getitem_multilevel(key)\n\u001b[1;32m-> 3505\u001b[0m indexer \u001b[39m=\u001b[39m \u001b[39mself\u001b[39;49m\u001b[39m.\u001b[39;49mcolumns\u001b[39m.\u001b[39;49mget_loc(key)\n\u001b[0;32m   3506\u001b[0m \u001b[39mif\u001b[39;00m is_integer(indexer):\n\u001b[0;32m   3507\u001b[0m     indexer \u001b[39m=\u001b[39m [indexer]\n",
      "File \u001b[1;32m~\\AppData\\Local\\Packages\\PythonSoftwareFoundation.Python.3.10_qbz5n2kfra8p0\\LocalCache\\local-packages\\Python310\\site-packages\\pandas\\core\\indexes\\base.py:3623\u001b[0m, in \u001b[0;36mIndex.get_loc\u001b[1;34m(self, key, method, tolerance)\u001b[0m\n\u001b[0;32m   3621\u001b[0m     \u001b[39mreturn\u001b[39;00m \u001b[39mself\u001b[39m\u001b[39m.\u001b[39m_engine\u001b[39m.\u001b[39mget_loc(casted_key)\n\u001b[0;32m   3622\u001b[0m \u001b[39mexcept\u001b[39;00m \u001b[39mKeyError\u001b[39;00m \u001b[39mas\u001b[39;00m err:\n\u001b[1;32m-> 3623\u001b[0m     \u001b[39mraise\u001b[39;00m \u001b[39mKeyError\u001b[39;00m(key) \u001b[39mfrom\u001b[39;00m \u001b[39merr\u001b[39;00m\n\u001b[0;32m   3624\u001b[0m \u001b[39mexcept\u001b[39;00m \u001b[39mTypeError\u001b[39;00m:\n\u001b[0;32m   3625\u001b[0m     \u001b[39m# If we have a listlike key, _check_indexing_error will raise\u001b[39;00m\n\u001b[0;32m   3626\u001b[0m     \u001b[39m#  InvalidIndexError. Otherwise we fall through and re-raise\u001b[39;00m\n\u001b[0;32m   3627\u001b[0m     \u001b[39m#  the TypeError.\u001b[39;00m\n\u001b[0;32m   3628\u001b[0m     \u001b[39mself\u001b[39m\u001b[39m.\u001b[39m_check_indexing_error(key)\n",
      "\u001b[1;31mKeyError\u001b[0m: 'Reviews'"
     ]
    }
   ],
   "source": [
    "df = pd.read_csv(r'C:\\Users\\Xiaoyong\\Desktop\\學期資料\\111-2_course\\NLP\\final\\simplifyweibo_4_moods\\traditional_weibo.csv')\n",
    "sentences = df['Reviews'].tolist()\n",
    "print(len(sentences))"
   ]
  },
  {
   "cell_type": "code",
   "execution_count": 22,
   "metadata": {},
   "outputs": [
    {
     "name": "stdout",
     "output_type": "stream",
     "text": [
      "[['何等', '幸運', '的', '我', '撿到', '五千', '塊', '!', '即使', '午餐', '有點', '難吃', '，', '也', '無所謂', '了']]\n",
      "B\n",
      "D\n",
      "最終分數\n",
      "10 3\n",
      "總分:7\n",
      "[('何等|幸運|撿到|五千|塊|!|午餐|有點|難吃|無所謂', 2)]\n",
      "情感分值： 2\n",
      "情感倾向：积极\n",
      "情感分析文本： 何等|幸運|撿到|五千|塊|!|午餐|有點|難吃|無所謂\n",
      "succeed.......\n"
     ]
    }
   ],
   "source": [
    "#主程式\n",
    "if __name__ == '__main__':\n",
    "\n",
    "    # with open(r'C:\\Users\\Xiaoyong\\Desktop\\學期資料\\111-2_course\\NLP\\final\\simplifyweibo_4_moods\\traditional_weibo.csv', 'r', encoding='utf-8') as file:\n",
    "    #     sentences = file.readlines()\n",
    "    \n",
    "    sentences = ['何等幸運的我撿到五千塊!即使午餐有點難吃，也無所謂了']\n",
    "    # df = pd.read_csv('google_37k.csv')\n",
    "    # sentences = df['Reviews'].tolist()\n",
    "\n",
    "    scores = run_score(sentences)\n",
    "    print(scores)\n",
    "    al_sentiment = []\n",
    "    for score in scores:\n",
    "        print('情感分值：',score[1])\n",
    "        if score[1] < 0:\n",
    "            print('情感:消極')\n",
    "            s = '消級'\n",
    "        elif score[1] == 0:\n",
    "            print('情感:中性')\n",
    "            s = '中性'\n",
    "        else:\n",
    "            print('情感:積極')\n",
    "            s = '積極'\n",
    "        al_sentiment.append(s)\n",
    "        print('情感分析文本：',score[0])\n",
    "    i = 0\n",
    "    #寫入文件\n",
    "    df = pd.DataFrame(scores, columns=['content', 'score'])\n",
    "    df.to_csv('weibo_train_50k.csv', index=False)\n",
    "    filename = r'train_data.txt'\n",
    "    for score in scores:\n",
    "        write_data(filename, '情感分析文本：{}'.format(str(score[0]))+'\\n') \n",
    "        write_data(filename,'情感分值：{}'.format(str(score[1]))+'\\n') \n",
    "        write_data(filename,'\\n')\n",
    "        i +=1\n",
    "    print('succeed.......')"
   ]
  },
  {
   "cell_type": "code",
   "execution_count": null,
   "metadata": {},
   "outputs": [
    {
     "name": "stdout",
     "output_type": "stream",
     "text": [
      "content    0\n",
      "score      0\n",
      "dtype: int64\n"
     ]
    }
   ],
   "source": [
    "df = pd.read_csv('weibo_train_50k.csv')\n",
    "df.dropna(inplace=True)\n",
    "print(df.isnull().sum())\n",
    "df.to_csv('weibo_train_50k_dropna.csv')"
   ]
  },
  {
   "cell_type": "code",
   "execution_count": null,
   "metadata": {},
   "outputs": [],
   "source": []
  }
 ],
 "metadata": {
  "kernelspec": {
   "display_name": "Python 3",
   "language": "python",
   "name": "python3"
  },
  "language_info": {
   "codemirror_mode": {
    "name": "ipython",
    "version": 3
   },
   "file_extension": ".py",
   "mimetype": "text/x-python",
   "name": "python",
   "nbconvert_exporter": "python",
   "pygments_lexer": "ipython3",
   "version": "3.10.11"
  },
  "orig_nbformat": 4
 },
 "nbformat": 4,
 "nbformat_minor": 2
}
